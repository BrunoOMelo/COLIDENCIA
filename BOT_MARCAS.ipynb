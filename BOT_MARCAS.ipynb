{
 "cells": [
  {
   "cell_type": "code",
   "execution_count": 195,
   "metadata": {},
   "outputs": [],
   "source": [
    "from selenium import webdriver\n",
    "from webdriver_manager.chrome import ChromeDriverManager\n",
    "from selenium.webdriver.chrome.service import Service\n",
    "from selenium.webdriver.common.by import By\n",
    "import time\n",
    "import bs4 as bs\n",
    "import pandas as pd"
   ]
  },
  {
   "cell_type": "code",
   "execution_count": 196,
   "metadata": {},
   "outputs": [],
   "source": [
    "service = Service(ChromeDriverManager().install())\n"
   ]
  },
  {
   "cell_type": "code",
   "execution_count": 197,
   "metadata": {},
   "outputs": [],
   "source": [
    "marca = ['xpro nutrition']\n",
    "ncl = ['']"
   ]
  },
  {
   "cell_type": "code",
   "execution_count": 198,
   "metadata": {},
   "outputs": [],
   "source": [
    "# basica radical \n",
    "\n",
    "\n",
    "browser = webdriver.Chrome(service=service)\n",
    "browser.get(\"https://busca.inpi.gov.br\")\n",
    "time.sleep(2)\n",
    "browser.find_element(By.XPATH,'//*[@id=\"principal\"]/form/table/tbody/tr[6]/td/font/b/font/a').click();\n",
    "time.sleep(2)\n",
    "\n",
    "\n",
    "\n",
    "browser.get('https://busca.inpi.gov.br/pePI/servlet/LoginController?action=login')\n",
    "\n",
    "# segue a trilha para a pagina de pesuisa e seleciona basica por radical\n",
    "browser.find_element(By.CSS_SELECTOR, 'area[href=\"/pePI/jsp/marcas/Pesquisa_num_processo.jsp\"]').click();\n",
    "time.sleep(1)\n",
    "browser.find_element(By.XPATH,'//*[@id=\"principal\"]/table[2]/tbody/tr[1]/td/font/a[1]').click();\n",
    "time.sleep(1)\n",
    "browser.find_element(By.XPATH,'//*[@id=\"principal\"]/table[2]/tbody/tr[4]/td[2]/input[2]').click();\n",
    "\n",
    "# insere a marca e ncl na caixa de pesquisa\n",
    "browser.find_element(By.XPATH,'//*[@id=\"principal\"]/table[2]/tbody/tr[6]/td[2]/font/input').send_keys(marca);\n",
    "time.sleep(1)\n",
    "browser.find_element(By.XPATH,'//*[@id=\"principal\"]/table[2]/tbody/tr[8]/td[2]/font[1]/input').send_keys(ncl);\n",
    "time.sleep(1)\n",
    "\n",
    "# seleciona o numero maximo de reistros por tela (100)\n",
    "browser.find_element(By.XPATH,'//*[@id=\"principal\"]/table[2]/tbody/tr[10]/td[2]/font/select/option[1]').click()\n",
    "time.sleep(1)\n",
    "#pesquisa\n",
    "browser.find_element(By.XPATH,'//*[@id=\"principal\"]/table[2]/tbody/tr[11]/td/font/input[1]').click()\n",
    "\n"
   ]
  },
  {
   "cell_type": "code",
   "execution_count": 199,
   "metadata": {},
   "outputs": [],
   "source": [
    "# obtendo a estrutura html da pagina e transformando em um objeto 'soup'\n",
    "html = browser.page_source\n",
    "soup = bs.BeautifulSoup(html, 'html.parser')"
   ]
  },
  {
   "cell_type": "code",
   "execution_count": 200,
   "metadata": {},
   "outputs": [],
   "source": [
    "# Colunas \n",
    "\n",
    "# td[0] = num_registro\n",
    "# td[1] = dta_prioridade\n",
    "# td[2] = marca\n",
    "# td[3] = status\n",
    "# td[4] = titular\n",
    "# td[5] = ncl\n"
   ]
  },
  {
   "cell_type": "code",
   "execution_count": 201,
   "metadata": {},
   "outputs": [],
   "source": [
    "mtx_itens = []\n",
    "itens = []"
   ]
  },
  {
   "cell_type": "code",
   "execution_count": 202,
   "metadata": {},
   "outputs": [],
   "source": [
    "tb = soup.find_all('table')[2].find('tbody').find_all('tr')"
   ]
  },
  {
   "cell_type": "code",
   "execution_count": 203,
   "metadata": {},
   "outputs": [
    {
     "data": {
      "text/plain": [
       "1"
      ]
     },
     "execution_count": 203,
     "metadata": {},
     "output_type": "execute_result"
    }
   ],
   "source": [
    "# para saber quantos marcas a consulta retornou, basta verificar o tamanho da variavel\n",
    "# que guarda todas as linhas e contar, subtraindo o header e footer\n",
    "len(tb) - 2"
   ]
  },
  {
   "cell_type": "code",
   "execution_count": 204,
   "metadata": {},
   "outputs": [
    {
     "data": {
      "text/plain": [
       "[<tr>\n",
       " <td align=\"center\" bgcolor=\"#B5D6AD\" height=\"10\" width=\"5%\"><font class=\"normal\"><b>Número</b></font></td>\n",
       " <td align=\"center\" bgcolor=\"#B5D6AD\" height=\"10\" width=\"5%\"><font class=\"normal\"><b>Prioridade</b></font></td>\n",
       " <td align=\"center\" bgcolor=\"#B5D6AD\" height=\"18\" width=\"5%\"><font class=\"normal\"> </font></td>\n",
       " <td align=\"center\" bgcolor=\"#B5D6AD\" height=\"10\" width=\"25%\"><font class=\"normal\"><b>Marca</b></font></td>\n",
       " <td align=\"center\" bgcolor=\"#B5D6AD\" height=\"18\" width=\"5%\"><font class=\"normal\"> </font></td>\n",
       " <td align=\"center\" bgcolor=\"#B5D6AD\" height=\"10\" width=\"5%\"> <font class=\"normal\"><b>Situação</b></font></td>\n",
       " <td align=\"center\" bgcolor=\"#B5D6AD\" height=\"10\" width=\"30%\"><font class=\"normal\"><b>Titular</b></font></td>\n",
       " <td align=\"center\" bgcolor=\"#B5D6AD\" height=\"10\" width=\"20%\"><font class=\"normal\"><b>Classe</b></font></td>\n",
       " </tr>,\n",
       " <tr bgcolor=\"#E0E0E0\" class=\"normal\">\n",
       " <td align=\"center\">\n",
       " <font class=\"normal\">\n",
       " <a class=\"visitado\" href=\"/pePI/servlet/MarcasServletController?Action=detail&amp;CodPedido=5330938\">\n",
       "                             930686195\n",
       "                         </a>\n",
       " </font>\n",
       " </td>\n",
       " <td align=\"center\">\n",
       " <font class=\"normal\">\n",
       "                     06/06/2023\n",
       "                     </font>\n",
       " </td>\n",
       " <td align=\"center\">\n",
       " <img alt=\"Marca Mista\" border=\"0\" height=\"18\" src=\"/pePI/jsp/imagens/M.gif\" width=\"18\"/>\n",
       " </td>\n",
       " <td align=\"left\">\n",
       " <font class=\"normal\">\n",
       " <b>\n",
       "                         \n",
       "                             XPRO NUTRITION\n",
       "                             \n",
       "                         </b>\n",
       " </font>\n",
       " </td>\n",
       " <td align=\"center\">\n",
       " <!--  Situação da Marca -->\n",
       " <img alt=\"Marca requerida\" border=\"0\" height=\"13\" src=\"/pePI/jsp/imagens/registro_em_exame.gif\" width=\"17\"/>\n",
       " <!-- Fim da situação da marca. -->\n",
       " </td>\n",
       " <td class=\"left padding-5\">\n",
       " <font class=\"normal\">\n",
       "                     \n",
       " \t\t\t\t\t\t                  \n",
       "                         \tAguardando exame de mérito\n",
       "                         \n",
       "                         \n",
       "                     </font>\n",
       " </td>\n",
       " <td class=\"left\">\n",
       " <font class=\"normal titular-marcas\">\n",
       "                         \t\t\tCR NUTRITION SUPLEMENTOS EIRELI\n",
       "                         \t\t</font>\n",
       " </td>\n",
       " <td class=\"left\">\n",
       " <font class=\"normal titulo-marcas\">\n",
       "                                             \tNCL(12) 05\n",
       " \t\t\t\t\t\t\t\t\t\t\t</font>\n",
       " </td>\n",
       " </tr>,\n",
       " <tr>\n",
       " <td align=\"left\" colspan=\"8\">\n",
       " <font class=\"normal\">\n",
       "                      <br/>Páginas de Resultados:<br/>\n",
       " <b>1</b>\n",
       " <input name=\"page\" type=\"hidden\" value=\"1\"/>\n",
       " <input name=\"NumPedido\" type=\"hidden\" value=\"\"/>\n",
       " <input name=\"Action\" type=\"hidden\" value=\"MeusPedidos\"/>\n",
       " </font>\n",
       " </td>\n",
       " </tr>]"
      ]
     },
     "execution_count": 204,
     "metadata": {},
     "output_type": "execute_result"
    }
   ],
   "source": [
    "tb"
   ]
  },
  {
   "cell_type": "code",
   "execution_count": 205,
   "metadata": {},
   "outputs": [],
   "source": [
    "for i in (range(len(tb) - 1)):\n",
    "    itens = []\n",
    "    for j in (range(len(tb[i].find_all('td')))):\n",
    "        itens.append( tb[i].find_all('td')[j].get_text().strip() )\n",
    "    mtx_itens.append(itens)\n",
    "\n",
    "\n"
   ]
  },
  {
   "cell_type": "code",
   "execution_count": 206,
   "metadata": {},
   "outputs": [
    {
     "data": {
      "text/plain": [
       "[['Número', 'Prioridade', '', 'Marca', '', 'Situação', 'Titular', 'Classe'],\n",
       " ['930686195',\n",
       "  '06/06/2023',\n",
       "  '',\n",
       "  'XPRO NUTRITION',\n",
       "  '',\n",
       "  'Aguardando exame de mérito',\n",
       "  'CR NUTRITION SUPLEMENTOS EIRELI',\n",
       "  'NCL(12) 05']]"
      ]
     },
     "execution_count": 206,
     "metadata": {},
     "output_type": "execute_result"
    }
   ],
   "source": [
    "mtx_itens"
   ]
  },
  {
   "cell_type": "code",
   "execution_count": 207,
   "metadata": {},
   "outputs": [],
   "source": [
    "header = mtx_itens[0]  # Primeira linha da matriz\n",
    "data = mtx_itens[1:]  # Resto dos dados da matriz"
   ]
  },
  {
   "cell_type": "code",
   "execution_count": 208,
   "metadata": {},
   "outputs": [],
   "source": [
    "df = pd.DataFrame(data=data, columns=header)"
   ]
  },
  {
   "cell_type": "code",
   "execution_count": 209,
   "metadata": {},
   "outputs": [
    {
     "data": {
      "text/html": [
       "<div>\n",
       "<style scoped>\n",
       "    .dataframe tbody tr th:only-of-type {\n",
       "        vertical-align: middle;\n",
       "    }\n",
       "\n",
       "    .dataframe tbody tr th {\n",
       "        vertical-align: top;\n",
       "    }\n",
       "\n",
       "    .dataframe thead th {\n",
       "        text-align: right;\n",
       "    }\n",
       "</style>\n",
       "<table border=\"1\" class=\"dataframe\">\n",
       "  <thead>\n",
       "    <tr style=\"text-align: right;\">\n",
       "      <th></th>\n",
       "      <th>Número</th>\n",
       "      <th>Prioridade</th>\n",
       "      <th></th>\n",
       "      <th>Marca</th>\n",
       "      <th></th>\n",
       "      <th>Situação</th>\n",
       "      <th>Titular</th>\n",
       "      <th>Classe</th>\n",
       "    </tr>\n",
       "  </thead>\n",
       "  <tbody>\n",
       "    <tr>\n",
       "      <th>0</th>\n",
       "      <td>930686195</td>\n",
       "      <td>06/06/2023</td>\n",
       "      <td></td>\n",
       "      <td>XPRO NUTRITION</td>\n",
       "      <td></td>\n",
       "      <td>Aguardando exame de mérito</td>\n",
       "      <td>CR NUTRITION SUPLEMENTOS EIRELI</td>\n",
       "      <td>NCL(12) 05</td>\n",
       "    </tr>\n",
       "  </tbody>\n",
       "</table>\n",
       "</div>"
      ],
      "text/plain": [
       "      Número  Prioridade             Marca                      Situação  \\\n",
       "0  930686195  06/06/2023    XPRO NUTRITION    Aguardando exame de mérito   \n",
       "\n",
       "                           Titular      Classe  \n",
       "0  CR NUTRITION SUPLEMENTOS EIRELI  NCL(12) 05  "
      ]
     },
     "execution_count": 209,
     "metadata": {},
     "output_type": "execute_result"
    }
   ],
   "source": [
    "df.select()"
   ]
  }
 ],
 "metadata": {
  "kernelspec": {
   "display_name": "base",
   "language": "python",
   "name": "python3"
  },
  "language_info": {
   "codemirror_mode": {
    "name": "ipython",
    "version": 3
   },
   "file_extension": ".py",
   "mimetype": "text/x-python",
   "name": "python",
   "nbconvert_exporter": "python",
   "pygments_lexer": "ipython3",
   "version": "3.10.9"
  },
  "orig_nbformat": 4
 },
 "nbformat": 4,
 "nbformat_minor": 2
}
