{
 "cells": [
  {
   "cell_type": "code",
   "execution_count": 360,
   "metadata": {},
   "outputs": [],
   "source": [
    "from selenium import webdriver\n",
    "from webdriver_manager.chrome import ChromeDriverManager\n",
    "from selenium.webdriver.chrome.service import Service\n",
    "from selenium.webdriver.common.by import By\n",
    "import time\n",
    "import bs4 as bs\n",
    "import pandas as pd"
   ]
  },
  {
   "cell_type": "code",
   "execution_count": 361,
   "metadata": {},
   "outputs": [],
   "source": [
    "service = Service(ChromeDriverManager().install())\n"
   ]
  },
  {
   "cell_type": "code",
   "execution_count": 362,
   "metadata": {},
   "outputs": [],
   "source": [
    "marca = ['xpro nutrition']\n",
    "ncl = ['']"
   ]
  },
  {
   "cell_type": "code",
   "execution_count": 363,
   "metadata": {},
   "outputs": [],
   "source": [
    "# basica radical \n",
    "\n",
    "\n",
    "browser = webdriver.Chrome(service=service)\n",
    "browser.get(\"https://busca.inpi.gov.br\")\n",
    "time.sleep(2)\n",
    "browser.find_element(By.XPATH,'//*[@id=\"principal\"]/form/table/tbody/tr[6]/td/font/b/font/a').click();\n",
    "time.sleep(2)\n",
    "\n",
    "\n",
    "\n",
    "browser.get('https://busca.inpi.gov.br/pePI/servlet/LoginController?action=login')\n",
    "\n",
    "# segue a trilha para a pagina de pesuisa e seleciona basica por radical\n",
    "browser.find_element(By.CSS_SELECTOR, 'area[href=\"/pePI/jsp/marcas/Pesquisa_num_processo.jsp\"]').click();\n",
    "time.sleep(1)\n",
    "browser.find_element(By.XPATH,'//*[@id=\"principal\"]/table[2]/tbody/tr[1]/td/font/a[1]').click();\n",
    "time.sleep(1)\n",
    "browser.find_element(By.XPATH,'//*[@id=\"principal\"]/table[2]/tbody/tr[4]/td[2]/input[2]').click();\n",
    "\n",
    "# insere a marca e ncl na caixa de pesquisa\n",
    "browser.find_element(By.XPATH,'//*[@id=\"principal\"]/table[2]/tbody/tr[6]/td[2]/font/input').send_keys(marca);\n",
    "time.sleep(1)\n",
    "browser.find_element(By.XPATH,'//*[@id=\"principal\"]/table[2]/tbody/tr[8]/td[2]/font[1]/input').send_keys(ncl);\n",
    "time.sleep(1)\n",
    "\n",
    "# seleciona o numero maximo de reistros por tela (100)\n",
    "browser.find_element(By.XPATH,'//*[@id=\"principal\"]/table[2]/tbody/tr[10]/td[2]/font/select/option[1]').click()\n",
    "time.sleep(1)\n",
    "#pesquisa\n",
    "browser.find_element(By.XPATH,'//*[@id=\"principal\"]/table[2]/tbody/tr[11]/td/font/input[1]').click()\n",
    "\n"
   ]
  },
  {
   "cell_type": "code",
   "execution_count": 364,
   "metadata": {},
   "outputs": [],
   "source": [
    "# obtendo a estrutura html da pagina e transformando em um objeto 'soup'\n",
    "html = browser.page_source\n",
    "soup = bs.BeautifulSoup(html, 'html.parser')"
   ]
  },
  {
   "cell_type": "code",
   "execution_count": 365,
   "metadata": {},
   "outputs": [],
   "source": [
    "# Colunas \n",
    "\n",
    "# td[0] = num_registro\n",
    "# td[1] = dta_prioridade\n",
    "# td[2] = marca\n",
    "# td[3] = status\n",
    "# td[4] = titular\n",
    "# td[5] = ncl\n"
   ]
  },
  {
   "cell_type": "code",
   "execution_count": 366,
   "metadata": {},
   "outputs": [],
   "source": [
    "mtx_itens = []\n",
    "itens = []"
   ]
  },
  {
   "cell_type": "code",
   "execution_count": 367,
   "metadata": {},
   "outputs": [],
   "source": [
    "tb = soup.find_all('table')[2].find('tbody').find_all('tr')"
   ]
  },
  {
   "cell_type": "code",
   "execution_count": 368,
   "metadata": {},
   "outputs": [
    {
     "data": {
      "text/plain": [
       "1"
      ]
     },
     "execution_count": 368,
     "metadata": {},
     "output_type": "execute_result"
    }
   ],
   "source": [
    "# para saber quantos marcas a consulta retornou, basta verificar o tamanho da variavel\n",
    "# que guarda todas as linhas e contar, subtraindo o header e footer\n",
    "len(tb) - 2"
   ]
  },
  {
   "cell_type": "code",
   "execution_count": 369,
   "metadata": {},
   "outputs": [
    {
     "data": {
      "text/plain": [
       "[<tr>\n",
       " <td align=\"center\" bgcolor=\"#B5D6AD\" height=\"10\" width=\"5%\"><font class=\"normal\"><b>Número</b></font></td>\n",
       " <td align=\"center\" bgcolor=\"#B5D6AD\" height=\"10\" width=\"5%\"><font class=\"normal\"><b>Prioridade</b></font></td>\n",
       " <td align=\"center\" bgcolor=\"#B5D6AD\" height=\"18\" width=\"5%\"><font class=\"normal\"> </font></td>\n",
       " <td align=\"center\" bgcolor=\"#B5D6AD\" height=\"10\" width=\"25%\"><font class=\"normal\"><b>Marca</b></font></td>\n",
       " <td align=\"center\" bgcolor=\"#B5D6AD\" height=\"18\" width=\"5%\"><font class=\"normal\"> </font></td>\n",
       " <td align=\"center\" bgcolor=\"#B5D6AD\" height=\"10\" width=\"5%\"> <font class=\"normal\"><b>Situação</b></font></td>\n",
       " <td align=\"center\" bgcolor=\"#B5D6AD\" height=\"10\" width=\"30%\"><font class=\"normal\"><b>Titular</b></font></td>\n",
       " <td align=\"center\" bgcolor=\"#B5D6AD\" height=\"10\" width=\"20%\"><font class=\"normal\"><b>Classe</b></font></td>\n",
       " </tr>,\n",
       " <tr bgcolor=\"#E0E0E0\" class=\"normal\">\n",
       " <td align=\"center\">\n",
       " <font class=\"normal\">\n",
       " <a class=\"visitado\" href=\"/pePI/servlet/MarcasServletController?Action=detail&amp;CodPedido=5330938\">\n",
       "                             930686195\n",
       "                         </a>\n",
       " </font>\n",
       " </td>\n",
       " <td align=\"center\">\n",
       " <font class=\"normal\">\n",
       "                     06/06/2023\n",
       "                     </font>\n",
       " </td>\n",
       " <td align=\"center\">\n",
       " <img alt=\"Marca Mista\" border=\"0\" height=\"18\" src=\"/pePI/jsp/imagens/M.gif\" width=\"18\"/>\n",
       " </td>\n",
       " <td align=\"left\">\n",
       " <font class=\"normal\">\n",
       " <b>\n",
       "                         \n",
       "                             XPRO NUTRITION\n",
       "                             \n",
       "                         </b>\n",
       " </font>\n",
       " </td>\n",
       " <td align=\"center\">\n",
       " <!--  Situação da Marca -->\n",
       " <img alt=\"Marca requerida\" border=\"0\" height=\"13\" src=\"/pePI/jsp/imagens/registro_em_exame.gif\" width=\"17\"/>\n",
       " <!-- Fim da situação da marca. -->\n",
       " </td>\n",
       " <td class=\"left padding-5\">\n",
       " <font class=\"normal\">\n",
       "                     \n",
       " \t\t\t\t\t\t                  \n",
       "                         \tAguardando manifestação sobre oposição\n",
       "                         \n",
       "                         \n",
       "                     </font>\n",
       " </td>\n",
       " <td class=\"left\">\n",
       " <font class=\"normal titular-marcas\">\n",
       "                         \t\t\tCR NUTRITION SUPLEMENTOS EIRELI\n",
       "                         \t\t</font>\n",
       " </td>\n",
       " <td class=\"left\">\n",
       " <font class=\"normal titulo-marcas\">\n",
       "                                             \tNCL(12) 05\n",
       " \t\t\t\t\t\t\t\t\t\t\t</font>\n",
       " </td>\n",
       " </tr>,\n",
       " <tr>\n",
       " <td align=\"left\" colspan=\"8\">\n",
       " <font class=\"normal\">\n",
       "                      <br/>Páginas de Resultados:<br/>\n",
       " <b>1</b>\n",
       " <input name=\"page\" type=\"hidden\" value=\"1\"/>\n",
       " <input name=\"NumPedido\" type=\"hidden\" value=\"\"/>\n",
       " <input name=\"Action\" type=\"hidden\" value=\"MeusPedidos\"/>\n",
       " </font>\n",
       " </td>\n",
       " </tr>]"
      ]
     },
     "execution_count": 369,
     "metadata": {},
     "output_type": "execute_result"
    }
   ],
   "source": [
    "tb"
   ]
  },
  {
   "cell_type": "markdown",
   "metadata": {},
   "source": [
    "MATRIZ DE MARCAS \n"
   ]
  },
  {
   "cell_type": "code",
   "execution_count": 370,
   "metadata": {},
   "outputs": [
    {
     "data": {
      "text/plain": [
       "range(0, 2)"
      ]
     },
     "execution_count": 370,
     "metadata": {},
     "output_type": "execute_result"
    }
   ],
   "source": [
    "range(len(tb)-1)"
   ]
  },
  {
   "cell_type": "code",
   "execution_count": 371,
   "metadata": {},
   "outputs": [
    {
     "name": "stdout",
     "output_type": "stream",
     "text": [
      "0\n",
      "1\n"
     ]
    }
   ],
   "source": [
    "for i in (range(len(tb) - 1)):\n",
    "    itens = []\n",
    "    print(i)\n",
    "    for j in (range(len(tb[i].find_all('td')))):\n",
    "        \n",
    "        itens.append( tb[i].find_all('td')[j].get_text().strip() )\n",
    "    \n",
    "    mtx_itens.append(itens)\n",
    "    \n",
    "\n"
   ]
  },
  {
   "cell_type": "code",
   "execution_count": 372,
   "metadata": {},
   "outputs": [],
   "source": [
    "header = mtx_itens[0]  # Primeira linha da matriz\n",
    "data = mtx_itens[1:]  # Resto dos dados da matriz"
   ]
  },
  {
   "cell_type": "code",
   "execution_count": 373,
   "metadata": {},
   "outputs": [],
   "source": [
    "df_marcas = pd.DataFrame(data=data, columns=header)"
   ]
  },
  {
   "cell_type": "code",
   "execution_count": 374,
   "metadata": {},
   "outputs": [
    {
     "data": {
      "text/html": [
       "<div>\n",
       "<style scoped>\n",
       "    .dataframe tbody tr th:only-of-type {\n",
       "        vertical-align: middle;\n",
       "    }\n",
       "\n",
       "    .dataframe tbody tr th {\n",
       "        vertical-align: top;\n",
       "    }\n",
       "\n",
       "    .dataframe thead th {\n",
       "        text-align: right;\n",
       "    }\n",
       "</style>\n",
       "<table border=\"1\" class=\"dataframe\">\n",
       "  <thead>\n",
       "    <tr style=\"text-align: right;\">\n",
       "      <th></th>\n",
       "      <th>Número</th>\n",
       "      <th>Prioridade</th>\n",
       "      <th></th>\n",
       "      <th>Marca</th>\n",
       "      <th></th>\n",
       "      <th>Situação</th>\n",
       "      <th>Titular</th>\n",
       "      <th>Classe</th>\n",
       "    </tr>\n",
       "  </thead>\n",
       "  <tbody>\n",
       "    <tr>\n",
       "      <th>0</th>\n",
       "      <td>930686195</td>\n",
       "      <td>06/06/2023</td>\n",
       "      <td></td>\n",
       "      <td>XPRO NUTRITION</td>\n",
       "      <td></td>\n",
       "      <td>Aguardando manifestação sobre oposição</td>\n",
       "      <td>CR NUTRITION SUPLEMENTOS EIRELI</td>\n",
       "      <td>NCL(12) 05</td>\n",
       "    </tr>\n",
       "  </tbody>\n",
       "</table>\n",
       "</div>"
      ],
      "text/plain": [
       "      Número  Prioridade             Marca    \\\n",
       "0  930686195  06/06/2023    XPRO NUTRITION     \n",
       "\n",
       "                                 Situação                          Titular  \\\n",
       "0  Aguardando manifestação sobre oposição  CR NUTRITION SUPLEMENTOS EIRELI   \n",
       "\n",
       "       Classe  \n",
       "0  NCL(12) 05  "
      ]
     },
     "execution_count": 374,
     "metadata": {},
     "output_type": "execute_result"
    }
   ],
   "source": [
    "df_marcas"
   ]
  },
  {
   "cell_type": "markdown",
   "metadata": {},
   "source": [
    "ESPECIFICACOES DAS MARCAS"
   ]
  },
  {
   "cell_type": "code",
   "execution_count": 375,
   "metadata": {},
   "outputs": [
    {
     "name": "stdout",
     "output_type": "stream",
     "text": [
      "0\n"
     ]
    }
   ],
   "source": [
    "for k in range(0, (len(tb) - 2)):\n",
    "    print(k)\n",
    "    browser.find_element(By.XPATH,'//*[@id=\"principal\"]/table[3]/tbody/tr[{}]/td[1]/font/a'.format(str((k+2)))).click()\n",
    "    \n",
    "    \n",
    "    \n",
    "    "
   ]
  },
  {
   "cell_type": "code",
   "execution_count": 376,
   "metadata": {},
   "outputs": [],
   "source": [
    "html = browser.page_source\n",
    "soup = bs.BeautifulSoup(html, 'html.parser')"
   ]
  },
  {
   "cell_type": "markdown",
   "metadata": {},
   "source": [
    " Indices de informacoes \n",
    "\n",
    "//*[@id=\"principal\"]/div[5] = classificacao_produto_servico\n",
    "\n",
    "//*[@id=\"principal\"]/div[10] = classificacao_viena\n",
    "\n",
    "//*[@id=\"principal\"]/div[13] = titulares\n",
    "\n",
    "//*[@id=\"principal\"]/div[18] = representante_legal\n",
    "\n",
    "//*[@id=\"principal\"]/div[21] = datas\n",
    "\n",
    "//*[@id=\"principal\"]/div[26] = peticoes\n",
    "\n",
    "//*[@id=\"principal\"]/div[0000] = publicacoes\n"
   ]
  },
  {
   "cell_type": "code",
   "execution_count": 377,
   "metadata": {},
   "outputs": [],
   "source": [
    "\n",
    "\n",
    "specs = soup.find(id='principal')"
   ]
  },
  {
   "cell_type": "markdown",
   "metadata": {},
   "source": [
    "ESPECIFICACOES DAS MARCAS: CLASSIFICACAO"
   ]
  },
  {
   "cell_type": "code",
   "execution_count": 378,
   "metadata": {},
   "outputs": [],
   "source": [
    "# specs.find_all('div')[i]\n",
    "# obetendo os nomes de cada coluna\n",
    "lst_classification = []\n",
    "range_1 = specs.find_all('div')[5].find_all('table')[0].find_all('th')\n",
    "\n",
    "for i in (range(len(range_1))):\n",
    "   lst_classification.append( specs.find_all('div')[5].find_all('table')[0].find_all('th')[i].get_text().strip())\n"
   ]
  },
  {
   "cell_type": "code",
   "execution_count": 379,
   "metadata": {},
   "outputs": [],
   "source": [
    "# teste de manipulacao de conteudo lista\n",
    "lst_classification[0] = str(lst_classification[0] + ': {}'.format(specs.find_all('div')[5].find_all('table')[0].find_all('tr')[1].find_all('td')[0].find('a').get_text().strip()))\n",
    "lst_classification[1] = str(lst_classification[1] + ': {}'.format(specs.find_all('div')[5].find_all('table')[0].find_all('tr')[1].find_all('td')[5].get_text().strip()))\n",
    "lst_classification[2] = str(lst_classification[2] + ': {}'.format(specs.find_all('div')[5].find_all('table')[0].find_all('tr')[1].find_all('td')[6].find('a').get_text().strip()))"
   ]
  },
  {
   "cell_type": "code",
   "execution_count": 380,
   "metadata": {},
   "outputs": [
    {
     "data": {
      "text/plain": [
       "'Situação da Classe: Vide Situação do Processo'"
      ]
     },
     "execution_count": 380,
     "metadata": {},
     "output_type": "execute_result"
    }
   ],
   "source": [
    "lst_classification[1]"
   ]
  },
  {
   "cell_type": "code",
   "execution_count": 381,
   "metadata": {},
   "outputs": [],
   "source": [
    "\n",
    "classificacao = ' \\n '.join(lst_classification)\n",
    "    "
   ]
  },
  {
   "cell_type": "code",
   "execution_count": 382,
   "metadata": {},
   "outputs": [],
   "source": [
    "mtx_itens[0].append('Classificacao')"
   ]
  },
  {
   "cell_type": "code",
   "execution_count": 383,
   "metadata": {},
   "outputs": [],
   "source": [
    "mtx_itens[1].append(classificacao)"
   ]
  },
  {
   "cell_type": "code",
   "execution_count": 384,
   "metadata": {},
   "outputs": [
    {
     "data": {
      "text/plain": [
       "[['Número',\n",
       "  'Prioridade',\n",
       "  '',\n",
       "  'Marca',\n",
       "  '',\n",
       "  'Situação',\n",
       "  'Titular',\n",
       "  'Classe',\n",
       "  'Classificacao'],\n",
       " ['930686195',\n",
       "  '06/06/2023',\n",
       "  '',\n",
       "  'XPRO NUTRITION',\n",
       "  '',\n",
       "  'Aguardando manifestação sobre oposição',\n",
       "  'CR NUTRITION SUPLEMENTOS EIRELI',\n",
       "  'NCL(12) 05',\n",
       "  'Classe de Nice: NCL(12) 05 \\n Situação da Classe: Vide Situação do Processo \\n Especificação: Complemento/suplemento alimentar composto por cereais [não m...']]"
      ]
     },
     "execution_count": 384,
     "metadata": {},
     "output_type": "execute_result"
    }
   ],
   "source": [
    "mtx_itens"
   ]
  },
  {
   "cell_type": "markdown",
   "metadata": {},
   "source": [
    "Classificacao Viena \n"
   ]
  },
  {
   "cell_type": "code",
   "execution_count": 385,
   "metadata": {},
   "outputs": [
    {
     "data": {
      "text/plain": [
       "[<th width=\"15%\"><font class=\"normal\">Edição</font></th>,\n",
       " <th width=\"180\"><font class=\"normal\">Código</font></th>,\n",
       " <th width=\"600\"><font class=\"normal\">Descrição</font></th>]"
      ]
     },
     "execution_count": 385,
     "metadata": {},
     "output_type": "execute_result"
    }
   ],
   "source": [
    "specs.find_all('div')[10].find_all('th')"
   ]
  },
  {
   "cell_type": "code",
   "execution_count": 386,
   "metadata": {},
   "outputs": [],
   "source": [
    "header_viena = []\n",
    "itens = []\n",
    "for i in range(len(specs.find_all('div')[10].find_all('th'))):\n",
    "    itens.append(specs.find_all('div')[10].find_all('th')[i].get_text().strip())\n",
    "\n",
    "\n",
    "header_viena.append(itens)\n",
    "itens = []\n"
   ]
  },
  {
   "cell_type": "code",
   "execution_count": 387,
   "metadata": {},
   "outputs": [
    {
     "data": {
      "text/plain": [
       "[['Edição', 'Código', 'Descrição']]"
      ]
     },
     "execution_count": 387,
     "metadata": {},
     "output_type": "execute_result"
    }
   ],
   "source": [
    "header_viena"
   ]
  },
  {
   "cell_type": "code",
   "execution_count": 388,
   "metadata": {},
   "outputs": [
    {
     "data": {
      "text/plain": [
       "range(0, 3)"
      ]
     },
     "execution_count": 388,
     "metadata": {},
     "output_type": "execute_result"
    }
   ],
   "source": [
    "range(len(specs.find_all('div')[10].find_all('tbody')[0].find_all('tr')[0].find_all('td')))"
   ]
  },
  {
   "cell_type": "code",
   "execution_count": 389,
   "metadata": {},
   "outputs": [
    {
     "name": "stdout",
     "output_type": "stream",
     "text": [
      "p0\n",
      "j0\n",
      "j1\n",
      "j2\n",
      "p1\n",
      "j0\n",
      "j1\n",
      "j2\n"
     ]
    }
   ],
   "source": [
    "itens = []\n",
    "\n",
    "for i in range(len(specs.find_all('div')[10].find_all('tbody')[0].find_all('tr'))):\n",
    "    \n",
    "    itens = []\n",
    "    print('p'+ str(i))\n",
    "    \n",
    "    for j in range(len(specs.find_all('div')[10].find_all('tbody')[0].find_all('tr')[0].find_all('td'))):\n",
    "        \n",
    "        print('j'+str(j))\n",
    "        itens.append(specs.find_all('div')[10].find_all('tbody')[0].find_all('tr')[i].find_all('td')[j].get_text().strip())\n",
    "        \n",
    "    header_viena.append(itens)\n",
    "itens = []"
   ]
  },
  {
   "cell_type": "code",
   "execution_count": 390,
   "metadata": {},
   "outputs": [
    {
     "data": {
      "text/plain": [
       "[['Edição', 'Código', 'Descrição'],\n",
       " ['4', '27.5.23', 'Várias letras'],\n",
       " ['4', '27.5.1', 'Letras apresentando um grafismo especial']]"
      ]
     },
     "execution_count": 390,
     "metadata": {},
     "output_type": "execute_result"
    }
   ],
   "source": [
    "header_viena"
   ]
  },
  {
   "cell_type": "code",
   "execution_count": 391,
   "metadata": {},
   "outputs": [],
   "source": [
    "\n",
    "mtx_itens[0].append('Classificacao Viena')\n",
    "mtx_itens[1].append(header_viena)"
   ]
  },
  {
   "cell_type": "code",
   "execution_count": 392,
   "metadata": {},
   "outputs": [
    {
     "data": {
      "text/plain": [
       "[['Número',\n",
       "  'Prioridade',\n",
       "  '',\n",
       "  'Marca',\n",
       "  '',\n",
       "  'Situação',\n",
       "  'Titular',\n",
       "  'Classe',\n",
       "  'Classificacao',\n",
       "  'Classificacao Viena'],\n",
       " ['930686195',\n",
       "  '06/06/2023',\n",
       "  '',\n",
       "  'XPRO NUTRITION',\n",
       "  '',\n",
       "  'Aguardando manifestação sobre oposição',\n",
       "  'CR NUTRITION SUPLEMENTOS EIRELI',\n",
       "  'NCL(12) 05',\n",
       "  'Classe de Nice: NCL(12) 05 \\n Situação da Classe: Vide Situação do Processo \\n Especificação: Complemento/suplemento alimentar composto por cereais [não m...',\n",
       "  [['Edição', 'Código', 'Descrição'],\n",
       "   ['4', '27.5.23', 'Várias letras'],\n",
       "   ['4', '27.5.1', 'Letras apresentando um grafismo especial']]]]"
      ]
     },
     "execution_count": 392,
     "metadata": {},
     "output_type": "execute_result"
    }
   ],
   "source": [
    "mtx_itens"
   ]
  },
  {
   "cell_type": "markdown",
   "metadata": {},
   "source": [
    "Titulares"
   ]
  },
  {
   "cell_type": "code",
   "execution_count": 393,
   "metadata": {},
   "outputs": [
    {
     "data": {
      "text/plain": [
       "[<th width=\"20\"><font class=\"normal\"></font></th>,\n",
       " <th width=\"400\"><font class=\"normal\">Nome</font></th>]"
      ]
     },
     "execution_count": 393,
     "metadata": {},
     "output_type": "execute_result"
    }
   ],
   "source": [
    "specs.find_all('div')[13].find_all('table')[0].find_all('tr')[0].find_all('th')\n",
    "\n"
   ]
  },
  {
   "cell_type": "code",
   "execution_count": 394,
   "metadata": {},
   "outputs": [],
   "source": [
    "header_titular = []\n",
    "itens = []\n",
    "for i in range(len(specs.find_all('div')[13].find_all('table')[0].find_all('tr')[0].find_all('th'))):\n",
    "    \n",
    "    if (len(specs.find_all('div')[13].find_all('table')[0].find_all('tr')[0].find_all('th')[i].get_text().strip()) == 0):\n",
    "        itens.append('Ordem')\n",
    "    else:\n",
    "        itens.append(specs.find_all('div')[13].find_all('table')[0].find_all('tr')[0].find_all('th')[i].get_text().strip())\n",
    "header_titular.append(itens)"
   ]
  },
  {
   "cell_type": "code",
   "execution_count": 395,
   "metadata": {},
   "outputs": [
    {
     "data": {
      "text/plain": [
       "[['Ordem', 'Nome']]"
      ]
     },
     "execution_count": 395,
     "metadata": {},
     "output_type": "execute_result"
    }
   ],
   "source": [
    "header_titular"
   ]
  },
  {
   "cell_type": "code",
   "execution_count": 396,
   "metadata": {},
   "outputs": [
    {
     "data": {
      "text/plain": [
       "[<td width=\"20\"><font class=\"normal\">Titular(1):</font></td>,\n",
       " <td width=\"400\"><font class=\"normal\">CR NUTRITION SUPLEMENTOS EIRELI\n",
       "                              </font></td>]"
      ]
     },
     "execution_count": 396,
     "metadata": {},
     "output_type": "execute_result"
    }
   ],
   "source": [
    "specs.find_all('div')[13].find_all('table')[0].find_all('tr')[1].find_all('td')"
   ]
  },
  {
   "cell_type": "code",
   "execution_count": 397,
   "metadata": {},
   "outputs": [],
   "source": [
    "itens = []\n",
    "for i in range(len(specs.find_all('div')[13].find_all('table')[0].find_all('tr') )):\n",
    "    \n",
    "    \n",
    "    for j in range(len(specs.find_all('div')[13].find_all('table')[0].find_all('tr')[i].find_all('td'))):\n",
    "\n",
    "        itens.append(specs.find_all('div')[13].find_all('table')[0].find_all('tr')[i].find_all('td')[j].get_text().strip())\n",
    "        \n",
    "    header_titular.append(itens) \n",
    "    itens = []   \n",
    "\n",
    "    \n",
    "    \n",
    "    \n",
    "    \n"
   ]
  },
  {
   "cell_type": "code",
   "execution_count": 398,
   "metadata": {},
   "outputs": [
    {
     "data": {
      "text/plain": [
       "[]"
      ]
     },
     "execution_count": 398,
     "metadata": {},
     "output_type": "execute_result"
    }
   ],
   "source": [
    "header_titular.pop(1)"
   ]
  },
  {
   "cell_type": "code",
   "execution_count": 399,
   "metadata": {},
   "outputs": [
    {
     "data": {
      "text/plain": [
       "[['Ordem', 'Nome'], ['Titular(1):', 'CR NUTRITION SUPLEMENTOS EIRELI']]"
      ]
     },
     "execution_count": 399,
     "metadata": {},
     "output_type": "execute_result"
    }
   ],
   "source": [
    "header_titular"
   ]
  },
  {
   "cell_type": "code",
   "execution_count": 400,
   "metadata": {},
   "outputs": [],
   "source": [
    "mtx_itens[0].append('Titulares')\n",
    "mtx_itens[1].append(header_titular)\n"
   ]
  },
  {
   "cell_type": "code",
   "execution_count": 401,
   "metadata": {},
   "outputs": [
    {
     "data": {
      "text/plain": [
       "[['Número',\n",
       "  'Prioridade',\n",
       "  '',\n",
       "  'Marca',\n",
       "  '',\n",
       "  'Situação',\n",
       "  'Titular',\n",
       "  'Classe',\n",
       "  'Classificacao',\n",
       "  'Classificacao Viena',\n",
       "  'Titulares'],\n",
       " ['930686195',\n",
       "  '06/06/2023',\n",
       "  '',\n",
       "  'XPRO NUTRITION',\n",
       "  '',\n",
       "  'Aguardando manifestação sobre oposição',\n",
       "  'CR NUTRITION SUPLEMENTOS EIRELI',\n",
       "  'NCL(12) 05',\n",
       "  'Classe de Nice: NCL(12) 05 \\n Situação da Classe: Vide Situação do Processo \\n Especificação: Complemento/suplemento alimentar composto por cereais [não m...',\n",
       "  [['Edição', 'Código', 'Descrição'],\n",
       "   ['4', '27.5.23', 'Várias letras'],\n",
       "   ['4', '27.5.1', 'Letras apresentando um grafismo especial']],\n",
       "  [['Ordem', 'Nome'], ['Titular(1):', 'CR NUTRITION SUPLEMENTOS EIRELI']]]]"
      ]
     },
     "execution_count": 401,
     "metadata": {},
     "output_type": "execute_result"
    }
   ],
   "source": [
    "mtx_itens"
   ]
  },
  {
   "cell_type": "markdown",
   "metadata": {},
   "source": [
    "Representante Legal"
   ]
  },
  {
   "cell_type": "code",
   "execution_count": 402,
   "metadata": {},
   "outputs": [
    {
     "data": {
      "text/plain": [
       "[<tr bgcolor=\"#b5d6ad\">\n",
       " <th width=\"20\"><font class=\"normal\"></font></th>\n",
       " <th width=\"400\"><font class=\"normal\">Nome</font></th>\n",
       " </tr>,\n",
       " <tr align=\"center\" bgcolor=\"#e9e9e9\">\n",
       " <td width=\"20\"><font class=\"normal\">Procurador:</font></td>\n",
       " <td width=\"400\"><font class=\"normal\">Roger Fernando Assunção</font></td>\n",
       " </tr>]"
      ]
     },
     "execution_count": 402,
     "metadata": {},
     "output_type": "execute_result"
    }
   ],
   "source": [
    "specs.find_all('div')[18].find_all('tr')"
   ]
  },
  {
   "cell_type": "code",
   "execution_count": 403,
   "metadata": {},
   "outputs": [],
   "source": [
    "header_representante = []\n",
    "itens = []\n",
    "\n",
    "for i in range(len(specs.find_all('div')[18].find_all('tr')[0].find_all('th'))):\n",
    "    \n",
    "    if (len(specs.find_all('div')[18].find_all('tr')[0].find_all('th')[i].get_text().strip()) == 0):\n",
    "        continue\n",
    "    else:\n",
    "        itens.append(specs.find_all('div')[18].find_all('tr')[0].find_all('th')[i].get_text().strip())\n",
    "header_representante.append(itens)\n",
    "    "
   ]
  },
  {
   "cell_type": "code",
   "execution_count": 404,
   "metadata": {},
   "outputs": [
    {
     "data": {
      "text/plain": [
       "[['Nome']]"
      ]
     },
     "execution_count": 404,
     "metadata": {},
     "output_type": "execute_result"
    }
   ],
   "source": [
    "header_representante"
   ]
  },
  {
   "cell_type": "code",
   "execution_count": 405,
   "metadata": {},
   "outputs": [],
   "source": [
    "# specs.find_all('div')[18].find_all('tr')[].find_all('td')\n",
    "\n",
    "itens = []\n",
    "for i in range(len(specs.find_all('div')[18].find_all('table')[0].find_all('tr') )):\n",
    "    \n",
    "    \n",
    "    for j in range(len(specs.find_all('div')[18].find_all('table')[0].find_all('tr')[i].find_all('td'))):\n",
    "\n",
    "        itens.append(specs.find_all('div')[18].find_all('table')[0].find_all('tr')[i].find_all('td')[j].get_text().strip())\n",
    "        \n",
    "    header_representante.append(itens) \n",
    "    itens = []   "
   ]
  },
  {
   "cell_type": "code",
   "execution_count": 406,
   "metadata": {},
   "outputs": [
    {
     "data": {
      "text/plain": [
       "[]"
      ]
     },
     "execution_count": 406,
     "metadata": {},
     "output_type": "execute_result"
    }
   ],
   "source": [
    "header_representante.pop(1)"
   ]
  },
  {
   "cell_type": "code",
   "execution_count": 407,
   "metadata": {},
   "outputs": [
    {
     "data": {
      "text/plain": [
       "'Procurador:'"
      ]
     },
     "execution_count": 407,
     "metadata": {},
     "output_type": "execute_result"
    }
   ],
   "source": [
    "header_representante[1].pop(0)"
   ]
  },
  {
   "cell_type": "code",
   "execution_count": 408,
   "metadata": {},
   "outputs": [
    {
     "data": {
      "text/plain": [
       "[['Nome'], ['Roger Fernando Assunção']]"
      ]
     },
     "execution_count": 408,
     "metadata": {},
     "output_type": "execute_result"
    }
   ],
   "source": [
    "header_representante"
   ]
  },
  {
   "cell_type": "code",
   "execution_count": 409,
   "metadata": {},
   "outputs": [],
   "source": [
    "mtx_itens[0].append('Representante Legal')\n",
    "mtx_itens[1].append(header_representante)"
   ]
  },
  {
   "cell_type": "code",
   "execution_count": 410,
   "metadata": {},
   "outputs": [
    {
     "data": {
      "text/plain": [
       "[['Número',\n",
       "  'Prioridade',\n",
       "  '',\n",
       "  'Marca',\n",
       "  '',\n",
       "  'Situação',\n",
       "  'Titular',\n",
       "  'Classe',\n",
       "  'Classificacao',\n",
       "  'Classificacao Viena',\n",
       "  'Titulares',\n",
       "  'Representante Legal'],\n",
       " ['930686195',\n",
       "  '06/06/2023',\n",
       "  '',\n",
       "  'XPRO NUTRITION',\n",
       "  '',\n",
       "  'Aguardando manifestação sobre oposição',\n",
       "  'CR NUTRITION SUPLEMENTOS EIRELI',\n",
       "  'NCL(12) 05',\n",
       "  'Classe de Nice: NCL(12) 05 \\n Situação da Classe: Vide Situação do Processo \\n Especificação: Complemento/suplemento alimentar composto por cereais [não m...',\n",
       "  [['Edição', 'Código', 'Descrição'],\n",
       "   ['4', '27.5.23', 'Várias letras'],\n",
       "   ['4', '27.5.1', 'Letras apresentando um grafismo especial']],\n",
       "  [['Ordem', 'Nome'], ['Titular(1):', 'CR NUTRITION SUPLEMENTOS EIRELI']],\n",
       "  [['Nome'], ['Roger Fernando Assunção']]]]"
      ]
     },
     "execution_count": 410,
     "metadata": {},
     "output_type": "execute_result"
    }
   ],
   "source": [
    "mtx_itens"
   ]
  },
  {
   "cell_type": "markdown",
   "metadata": {},
   "source": [
    "Datas"
   ]
  },
  {
   "cell_type": "code",
   "execution_count": 435,
   "metadata": {},
   "outputs": [
    {
     "data": {
      "text/plain": [
       "<tr bgcolor=\"#b5d6ad\">\n",
       "<th width=\"260\"><font class=\"normal\">Data de Depósito</font></th>\n",
       "<th width=\"260\"><font class=\"normal\">Data de Concessão</font></th>\n",
       "<th width=\"260\"><font class=\"normal\">Data de Vigência</font>\n",
       "<font class=\"normal\">\n",
       "<a class=\"normal\" href=\"javascript:void(0)\" onclick=\"DisableHide()\" onmouseout=\"hideMe('helpdatavigencia')\" onmouseover=\"showMe('helpdatavigencia')\">\n",
       "<img border=\"0\" height=\"15\" name=\"class\" src=\"../jsp/imagens/help.gif\" width=\"13\"/>\n",
       "</a>\n",
       "</font>\n",
       "<div id=\"helpdatavigencia\" style=\"BACKGROUND-COLOR: #ffffff; BORDER-BOTTOM: #000000 1px; BORDER-LEFT: #000000 1px; BORDER-RIGHT: #000000 1px; BORDER-TOP: #000000 1px; HEIGHT: 20px; POSITION: absolute; VISIBILITY: hidden; WIDTH: 300px; Z-INDEX: 10; layer-background-color: #FFFFFF\">\n",
       "<table border=\"1\" bordercolor=\"#006363\" cellpadding=\"5\" cellspacing=\"0\" width=\"100%\">\n",
       "<tbody><tr>\n",
       "<td align=\"center\" bgcolor=\"#b5d6ad\">\n",
       "<table border=\"0\" cellpadding=\"0\" cellspacing=\"0\" width=\"100%\">\n",
       "<tbody><tr>\n",
       "<td><font class=\"normal\">Leia-me</font></td>\n",
       "<td width=\"30\"><a href=\"javascript:EnableHide('helpdatavigencia');\"><img border=\"0\" height=\"16\" name=\"class\" src=\"../jsp/imagens/bt_layer.gif\" width=\"26\"/></a></td>\n",
       "</tr>\n",
       "</tbody></table>\n",
       "</td>\n",
       "</tr>\n",
       "<tr>\n",
       "<td align=\"left\" bgcolor=\"#ffffff\"><font class=\"normal\">\n",
       "\t\t\t\t\t\t\t\t\t\t\t\t\t\t\tA data de vigência dos processos de marca designados ao Brasil, pela via do Protocolo de Madri,\n",
       "\t\t\t\t\t\t\t\t\t\t\t\t\t\t\tacompanha o prazo de vigência da inscrição internacional junto à OMPI,\n",
       "\t\t\t\t\t\t\t\t\t\t\t\t\t\t\tindependentemente da data de concessão do registro de marca no Brasil. </font></td>\n",
       "</tr>\n",
       "</tbody></table>\n",
       "</div>\n",
       "</th>\n",
       "</tr>"
      ]
     },
     "execution_count": 435,
     "metadata": {},
     "output_type": "execute_result"
    }
   ],
   "source": [
    "specs.find_all('div')[21].find_all('table')[0].find_all('tr')[0]"
   ]
  },
  {
   "cell_type": "code",
   "execution_count": 458,
   "metadata": {},
   "outputs": [],
   "source": [
    "header_datas = []\n",
    "itens=[]\n",
    "\n",
    "for i in range(len(specs.find_all('div')[21].find_all('table')[0].find_all('tr')[0].find_all('th'))):\n",
    "    \n",
    "    itens.append(specs.find_all('div')[21].find_all('table')[0].find_all('tr')[0].find_all('th')[i].find('font').get_text().strip())\n",
    "header_datas.append(itens)"
   ]
  },
  {
   "cell_type": "code",
   "execution_count": 459,
   "metadata": {},
   "outputs": [
    {
     "data": {
      "text/plain": [
       "[['Data de Depósito', 'Data de Concessão', 'Data de Vigência']]"
      ]
     },
     "execution_count": 459,
     "metadata": {},
     "output_type": "execute_result"
    }
   ],
   "source": [
    "header_datas"
   ]
  },
  {
   "cell_type": "code",
   "execution_count": 460,
   "metadata": {},
   "outputs": [],
   "source": [
    "itens = []\n",
    "for i in range(len(specs.find_all('div')[21].find_all('table')[0].find_all('tr'))-4):\n",
    "    \n",
    "    for j in range(len(specs.find_all('div')[21].find_all('table')[0].find_all('tr')[(i + 4)].find_all('th'))):\n",
    "        itens.append(specs.find_all('div')[21].find_all('table')[0].find_all('tr')[(i + 4)].find_all('th')[j].get_text().strip())\n",
    "header_datas.append(itens)"
   ]
  },
  {
   "cell_type": "code",
   "execution_count": 462,
   "metadata": {},
   "outputs": [
    {
     "data": {
      "text/plain": [
       "[['Data de Depósito', 'Data de Concessão', 'Data de Vigência'],\n",
       " ['06/06/2023', '', '']]"
      ]
     },
     "execution_count": 462,
     "metadata": {},
     "output_type": "execute_result"
    }
   ],
   "source": [
    "header_datas"
   ]
  },
  {
   "cell_type": "markdown",
   "metadata": {},
   "source": [
    "Peticoes "
   ]
  },
  {
   "cell_type": "code",
   "execution_count": 471,
   "metadata": {},
   "outputs": [
    {
     "data": {
      "text/plain": [
       "[<th width=\"10\"><font class=\"normal\">Pgo</font>\n",
       " </th>,\n",
       " <th width=\"50\"><font class=\"normal\">Protocolo</font>\n",
       " </th>,\n",
       " <th width=\"62\"><font class=\"normal\">Data</font>\n",
       " </th>,\n",
       " <th width=\"10\"><font class=\"normal\">Img</font>\n",
       " </th>,\n",
       " <th width=\"10\">\n",
       " </th>,\n",
       " <th width=\"30\"><font class=\"normal\">Serviço</font>\n",
       " </th>,\n",
       " <th width=\"246\"><font class=\"normal\">Cliente</font>\n",
       " </th>,\n",
       " <th width=\"10\"><font class=\"normal\">Delivery</font>\n",
       " </th>,\n",
       " <th width=\"10\"><font class=\"normal\">Data</font>\n",
       " </th>]"
      ]
     },
     "execution_count": 471,
     "metadata": {},
     "output_type": "execute_result"
    }
   ],
   "source": [
    "specs.find_all('div')[26].find_all('table')[0].find_all('th')"
   ]
  },
  {
   "cell_type": "code",
   "execution_count": 480,
   "metadata": {},
   "outputs": [],
   "source": [
    "header_peticoes = []\n",
    "itens = []\n",
    "\n",
    "for i in range(len(specs.find_all('div')[26].find_all('table')[0].find_all('th'))-1):\n",
    "    itens.append(specs.find_all('div')[26].find_all('table')[0].find_all('th')[i].get_text().strip())\n",
    "    \n",
    "header_peticoes.append(itens)\n",
    "\n",
    "itens = []"
   ]
  },
  {
   "cell_type": "code",
   "execution_count": 481,
   "metadata": {},
   "outputs": [
    {
     "data": {
      "text/plain": [
       "[['Pgo', 'Protocolo', 'Data', 'Img', '', 'Serviço', 'Cliente', 'Delivery']]"
      ]
     },
     "execution_count": 481,
     "metadata": {},
     "output_type": "execute_result"
    }
   ],
   "source": [
    "header_peticoes"
   ]
  },
  {
   "cell_type": "code",
   "execution_count": 498,
   "metadata": {},
   "outputs": [
    {
     "data": {
      "text/plain": [
       "<td align=\"center\" bgcolor=\"#b5d6ad\">\n",
       "<table border=\"0\" cellpadding=\"0\" cellspacing=\"0\" width=\"100%\">\n",
       "<tbody><tr>\n",
       "<td><font class=\"normal\">Informações do Banco:</font></td>\n",
       "<td width=\"30\">\n",
       "<a href=\"javascript:EnableHide('pgto0');\"><img border=\"0\" height=\"16\" name=\"class\" src=\"../jsp/imagens/bt_layer.gif\" width=\"26\"/></a>\n",
       "</td>\n",
       "</tr>\n",
       "</tbody></table>\n",
       "</td>"
      ]
     },
     "execution_count": 498,
     "metadata": {},
     "output_type": "execute_result"
    }
   ],
   "source": [
    "specs.find_all('div')[26].find_all('table')[0].find_all('tr')[1].find_all('td')[0]"
   ]
  }
 ],
 "metadata": {
  "kernelspec": {
   "display_name": "base",
   "language": "python",
   "name": "python3"
  },
  "language_info": {
   "codemirror_mode": {
    "name": "ipython",
    "version": 3
   },
   "file_extension": ".py",
   "mimetype": "text/x-python",
   "name": "python",
   "nbconvert_exporter": "python",
   "pygments_lexer": "ipython3",
   "version": "3.10.9"
  },
  "orig_nbformat": 4
 },
 "nbformat": 4,
 "nbformat_minor": 2
}
