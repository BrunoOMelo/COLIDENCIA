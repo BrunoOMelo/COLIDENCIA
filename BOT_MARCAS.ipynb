{
 "cells": [
  {
   "cell_type": "code",
   "execution_count": 3,
   "metadata": {},
   "outputs": [],
   "source": [
    "from selenium import webdriver\n",
    "from webdriver_manager.chrome import ChromeDriverManager\n",
    "from selenium.webdriver.chrome.service import Service\n",
    "from selenium.webdriver.common.by import By\n",
    "import time"
   ]
  },
  {
   "cell_type": "code",
   "execution_count": 4,
   "metadata": {},
   "outputs": [],
   "source": [
    "service = Service(ChromeDriverManager().install())\n"
   ]
  },
  {
   "cell_type": "code",
   "execution_count": 5,
   "metadata": {},
   "outputs": [],
   "source": [
    "# avancada\n",
    "\n",
    "browser = webdriver.Chrome(service=service)\n",
    "browser.get(\"https://busca.inpi.gov.br\")\n",
    "time.sleep(2)\n",
    "browser.find_element(By.XPATH,'//*[@id=\"principal\"]/form/table/tbody/tr[6]/td/font/b/font/a').click();\n",
    "time.sleep(2)\n",
    "\n",
    "\n",
    "\n",
    "browser.get('https://busca.inpi.gov.br/pePI/servlet/LoginController?action=login')\n",
    "\n",
    "browser.find_element(By.CSS_SELECTOR, 'area[href=\"/pePI/jsp/marcas/Pesquisa_num_processo.jsp\"]').click();\n",
    "time.sleep(1)\n",
    "browser.find_element(By.XPATH,'//*[@id=\"principal\"]/table[2]/tbody/tr[1]/td/font/a[1]').click();\n",
    "time.sleep(1)\n",
    "browser.find_element(By.XPATH,'//*[@id=\"principal\"]/table[2]/tbody/tr[2]/td/span/a/b/font').click();\n",
    "time.sleep(1)\n",
    "browser.find_element(By.XPATH,'//*[@id=\"principal\"]/table[2]/tbody/tr[4]/td[2]/input[2]').click();\n",
    "time.sleep(1)\n",
    "browser.find_element(By.XPATH,'//*[@id=\"principal\"]/table[2]/tbody/tr[4]/td[3]/span/span[1]').click();\n",
    "time.sleep(1)\n",
    "browser.find_element(By.XPATH,'//*[@id=\"principal\"]/table[2]/tbody/tr[6]/td[2]/font/input').send_keys('xpro');\n",
    "time.sleep(1)\n",
    "browser.find_element(By.XPATH,'//*[@id=\"principal\"]/table[2]/tbody/tr[14]/td/font/input[1]').click();\n",
    "\n",
    "\n",
    "\n",
    "# browser.find_element(By.XPATH,'//*[@id=\"principal\"]/table[2]/tbody/tr[4]/td[2]/input[2]').click();\n",
    "\n",
    "# \n",
    "\n",
    "# browser.find_element(By.XPATH,'//*[@id=\"principal\"]/table[2]/tbody/tr[11]/td/font/input[1]').click();\n",
    "\n",
    "\n",
    "\n",
    "\n"
   ]
  }
 ],
 "metadata": {
  "kernelspec": {
   "display_name": "base",
   "language": "python",
   "name": "python3"
  },
  "language_info": {
   "codemirror_mode": {
    "name": "ipython",
    "version": 3
   },
   "file_extension": ".py",
   "mimetype": "text/x-python",
   "name": "python",
   "nbconvert_exporter": "python",
   "pygments_lexer": "ipython3",
   "version": "3.10.9"
  },
  "orig_nbformat": 4
 },
 "nbformat": 4,
 "nbformat_minor": 2
}
